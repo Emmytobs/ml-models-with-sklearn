{
 "cells": [
  {
   "cell_type": "code",
   "execution_count": 83,
   "metadata": {},
   "outputs": [],
   "source": [
    "import pandas as pd\n",
    "import os\n",
    "import numpy as np\n",
    "from pandas import DataFrame\n",
    "\n",
    "train_df = pd.read_csv(os.path.join(os.getcwd(), 'train.csv'))\n",
    "test_df = pd.read_csv(os.path.join(os.getcwd(), 'test.csv'))\n",
    "\n",
    "def convert_to_features_and_target(df: DataFrame, is_training_data=True):\n",
    "  # Create two dataframes: one for all columns except the last one and another for only the last column\n",
    "  features_df = df.iloc[:, 1:-1] if is_training_data else df.iloc[:, 1:]\n",
    "  # Convert the features to a two-dimensional array and the target to a one-dimensional array\n",
    "  features_set = features_df.values\n",
    "  target_set = None\n",
    "  # Convert the feature values to a regular float format\n",
    "  features_set = features_set.astype(float)\n",
    "  np.set_printoptions(suppress=True)\n",
    "  \n",
    "  if is_training_data:\n",
    "    target_df = df.iloc[:, -1]\n",
    "    target_set = target_df.values\n",
    "\n",
    "  return [features_set, target_set]\n",
    "\n",
    "[features_training_set, target_training_set] = convert_to_features_and_target(train_df, is_training_data=True)\n",
    "[testing_set, _] = convert_to_features_and_target(test_df, is_training_data=False)"
   ]
  },
  {
   "cell_type": "code",
   "execution_count": null,
   "metadata": {},
   "outputs": [
    {
     "name": "stdout",
     "output_type": "stream",
     "text": [
      "[1 1 1 ... 0 0 0]\n"
     ]
    }
   ],
   "source": [
    "from sklearn.ensemble import RandomForestClassifier\n",
    "\n",
    "clf = RandomForestClassifier(random_state=0)\n",
    "clf.fit(features_training_set, target_training_set)\n",
    "\n",
    "# Test with the testing set\n",
    "print(clf.predict(features_training_set))"
   ]
  }
 ],
 "metadata": {
  "kernelspec": {
   "display_name": "venv",
   "language": "python",
   "name": "python3"
  },
  "language_info": {
   "codemirror_mode": {
    "name": "ipython",
    "version": 3
   },
   "file_extension": ".py",
   "mimetype": "text/x-python",
   "name": "python",
   "nbconvert_exporter": "python",
   "pygments_lexer": "ipython3",
   "version": "3.12.5"
  }
 },
 "nbformat": 4,
 "nbformat_minor": 2
}
